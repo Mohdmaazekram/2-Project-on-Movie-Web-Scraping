{
 "cells": [
  {
   "cell_type": "code",
   "execution_count": 2,
   "id": "682ec997",
   "metadata": {},
   "outputs": [
    {
     "name": "stdout",
     "output_type": "stream",
     "text": [
      "Terrifier 2\n",
      "Black Adam\n",
      "Jeepers Creepers: Reborn\n",
      "Fullmetal Alchemist: The Final Alchemy\n",
      "Halloween Ends\n",
      "Project Gemini\n",
      "Fall\n",
      "The Battle at Lake Changjin: Water Gate Bridge\n",
      "Orphan: First Kill\n",
      "Piggy\n",
      "Bullet Train\n",
      "Hocus Pocus 2\n",
      "Athena\n",
      "The Infernal Machine\n",
      "Secret Headquarters\n",
      "Grimcutty\n",
      "Pinocchio\n",
      "Lou\n",
      "Beast\n",
      "Code Name Banshee\n",
      "Terrifier 2\n",
      "Black Adam\n",
      "Jeepers Creepers: Reborn\n",
      "Fullmetal Alchemist: The Final Alchemy\n",
      "Halloween Ends\n",
      "Project Gemini\n",
      "Fall\n",
      "The Battle at Lake Changjin: Water Gate Bridge\n",
      "Orphan: First Kill\n",
      "Piggy\n",
      "Bullet Train\n",
      "Hocus Pocus 2\n",
      "Athena\n",
      "The Infernal Machine\n",
      "Secret Headquarters\n",
      "Grimcutty\n",
      "Pinocchio\n",
      "Lou\n",
      "Beast\n",
      "Code Name Banshee\n",
      "Terrifier 2\n",
      "Black Adam\n",
      "Jeepers Creepers: Reborn\n",
      "Fullmetal Alchemist: The Final Alchemy\n",
      "Halloween Ends\n",
      "Project Gemini\n",
      "Fall\n",
      "The Battle at Lake Changjin: Water Gate Bridge\n",
      "Orphan: First Kill\n",
      "Piggy\n",
      "Bullet Train\n",
      "Hocus Pocus 2\n",
      "Athena\n",
      "The Infernal Machine\n",
      "Secret Headquarters\n",
      "Grimcutty\n",
      "Pinocchio\n",
      "Lou\n",
      "Beast\n",
      "Code Name Banshee\n",
      "Terrifier 2\n",
      "Black Adam\n",
      "Jeepers Creepers: Reborn\n",
      "Fullmetal Alchemist: The Final Alchemy\n",
      "Halloween Ends\n",
      "Project Gemini\n",
      "Fall\n",
      "The Battle at Lake Changjin: Water Gate Bridge\n",
      "Orphan: First Kill\n",
      "Piggy\n",
      "Bullet Train\n",
      "Hocus Pocus 2\n",
      "Athena\n",
      "The Infernal Machine\n",
      "Secret Headquarters\n",
      "Grimcutty\n",
      "Pinocchio\n",
      "Lou\n",
      "Beast\n",
      "Code Name Banshee\n"
     ]
    }
   ],
   "source": [
    "# def ALL_Page_Info():\n",
    "    \n",
    "import requests     # Importing request Library.\n",
    "\n",
    "from bs4 import BeautifulSoup    # Import BeautifulSoup from above.\n",
    "\n",
    "import re   # Importing Regular Expression.\n",
    "\n",
    "url = 'https://www.themoviedb.org'   # This is  outer Link.\n",
    "\n",
    "header = {'User-Agent': 'Mozilla/5.0 (Windows NT 6.3; Win64; x64) AppleWebKit/537.36 (KHTML, like Gecko) Chrome/99.0.4844.51 Safari/537.36'}\n",
    "\n",
    "all_page_urls = []   # Taking a empty list.\n",
    "\n",
    "for i in range(1,5):   # Using for loop For Fetching URLS .\n",
    "\n",
    "    num = str(i)    # Taking num Variable For Store i in String.\n",
    "\n",
    "    all_response_data = requests.get(url+'/movie', headers = header).text # Get the all_Response_data from the URL website.\n",
    "\n",
    "    all_soup_data = BeautifulSoup(all_response_data,'lxml') # Using BeautifulSoup to parse the all_Response_data.\n",
    "\n",
    "    all_divs = all_soup_data('div',class_='card style_1') # Creating one varialble to store common base of box.\n",
    "\n",
    "    for item in all_divs:  # Using For Loop to Fetch All Data From all_divs.\n",
    "\n",
    "        name = item.find('h2').text\n",
    "        link = item.find('a')['href']\n",
    "        movie_name = item.find('h2').text\n",
    "        print(movie_name)                                          # Print to Fetch name\n",
    "        Url= url + link\n",
    "#         print(Url)\n",
    "\n",
    "#         inside_page_data = requests.get(Url,headers = header).text # This is Inner Link.\n",
    "#         soupdata_of_insidepage = BeautifulSoup(inside_page_data,'lxml') # Using BeautifulSoup to parse the inside_page_data.\n",
    "\n",
    "\n",
    "#         rating = soupdata_of_insidepage.find('div',class_='percent')\n",
    "#         rating1 = rating.find('span')['class'][1].strip('icon-r')\n",
    "# #         print(rating1)                                        # Print to Fetch rating.\n",
    "\n",
    "#         genre = soupdata_of_insidepage.find('span',class_='genres').text.strip()\n",
    "# #         print(genre)                                          # Print to Fetch genre.\n",
    "\n",
    "#         release_date = soupdata_of_insidepage.find('span',class_='release').text.strip()\n",
    "#         release_date1 = release_date[:-4]\n",
    "# #         print(release_date1)                                  # Print to Fetch release_date1.\n",
    "\n",
    "#         run_time = soupdata_of_insidepage.find('span',class_='runtime').text.strip()\n",
    "# #         print(run_time)                                       # Print to Fetch run_time.\n",
    "\n",
    "#         director_name = soupdata_of_insidepage.find('ol',class_='people no_image')\n",
    "#         di = director_name.find('li',class_='profile')\n",
    "#         di2 = di.find('a').text\n",
    "#         print(di2)\n",
    "#         for items in di:               # Using For Loop For Fetching Director Name.\n",
    "#             a = items.find('p',class_='character').text\n",
    "#             if a.count('Director') == 1:\n",
    "#                 director_name = items.find('a').text\n",
    "#                 print(director_name)                            # Print to Fetch director_name\n",
    "#             else:\n",
    "#                 print('No director_name')\n",
    "\n",
    "#         all_page_info = {                       # Store all keys and values in one dictionary.\n",
    "#             'Name': name,\n",
    "#             'Rating': rating1,\n",
    "#             'Genre': genre,\n",
    "#             'Release Date': release_date1,\n",
    "#             'Run Time': run_time,\n",
    "#             'Director': director_name,\n",
    "#             'URL': Url\n",
    "#         }\n",
    "\n",
    "#         all_page_urls.append(all_page_info)    # Taking all_page_urls in empty list.\n",
    "#         print(all_page_urls)                                          # Print to get all_page_urls.\n",
    "# # ALL_Page_Info()"
   ]
  },
  {
   "cell_type": "code",
   "execution_count": 3,
   "id": "eb669b1f",
   "metadata": {},
   "outputs": [
    {
     "ename": "NameError",
     "evalue": "name 'soupdata_of_insidepage' is not defined",
     "output_type": "error",
     "traceback": [
      "\u001b[1;31m---------------------------------------------------------------------------\u001b[0m",
      "\u001b[1;31mNameError\u001b[0m                                 Traceback (most recent call last)",
      "Input \u001b[1;32mIn [3]\u001b[0m, in \u001b[0;36m<cell line: 1>\u001b[1;34m()\u001b[0m\n\u001b[1;32m----> 1\u001b[0m a \u001b[38;5;241m=\u001b[39m \u001b[43msoupdata_of_insidepage\u001b[49m\u001b[38;5;241m.\u001b[39mfind(\u001b[38;5;124m'\u001b[39m\u001b[38;5;124mli\u001b[39m\u001b[38;5;124m'\u001b[39m,class_\u001b[38;5;241m=\u001b[39m\u001b[38;5;124m'\u001b[39m\u001b[38;5;124mprofile\u001b[39m\u001b[38;5;124m'\u001b[39m)\u001b[38;5;241m.\u001b[39mtext\n\u001b[0;32m      2\u001b[0m a\n",
      "\u001b[1;31mNameError\u001b[0m: name 'soupdata_of_insidepage' is not defined"
     ]
    }
   ],
   "source": []
  },
  {
   "cell_type": "code",
   "execution_count": 12,
   "id": "f9731965",
   "metadata": {},
   "outputs": [
    {
     "ename": "TypeError",
     "evalue": "'NoneType' object is not callable",
     "output_type": "error",
     "traceback": [
      "\u001b[1;31m---------------------------------------------------------------------------\u001b[0m",
      "\u001b[1;31mTypeError\u001b[0m                                 Traceback (most recent call last)",
      "Input \u001b[1;32mIn [12]\u001b[0m, in \u001b[0;36m<cell line: 2>\u001b[1;34m()\u001b[0m\n\u001b[0;32m      1\u001b[0m di \u001b[38;5;241m=\u001b[39m soupdata_of_insidepage\u001b[38;5;241m.\u001b[39mfind(\u001b[38;5;124m'\u001b[39m\u001b[38;5;124mli\u001b[39m\u001b[38;5;124m'\u001b[39m,class_\u001b[38;5;241m=\u001b[39m\u001b[38;5;124m'\u001b[39m\u001b[38;5;124mprofile\u001b[39m\u001b[38;5;124m'\u001b[39m)\n\u001b[1;32m----> 2\u001b[0m maaz \u001b[38;5;241m=\u001b[39m \u001b[43mdi\u001b[49m\u001b[38;5;241;43m.\u001b[39;49m\u001b[43mreplace\u001b[49m\u001b[43m(\u001b[49m\u001b[38;5;124;43m'\u001b[39;49m\u001b[38;5;124;43m<li class=\u001b[39;49m\u001b[38;5;124;43m\"\u001b[39;49m\u001b[38;5;124;43mprofile\u001b[39;49m\u001b[38;5;124;43m\"\u001b[39;49m\u001b[38;5;124;43m>\u001b[39;49m\u001b[38;5;124;43m'\u001b[39;49m\u001b[43m,\u001b[49m\u001b[38;5;124;43m'\u001b[39;49m\u001b[38;5;124;43m'\u001b[39;49m\u001b[43m)\u001b[49m\n\u001b[0;32m      3\u001b[0m \u001b[38;5;28mprint\u001b[39m(maaz)\n",
      "\u001b[1;31mTypeError\u001b[0m: 'NoneType' object is not callable"
     ]
    }
   ],
   "source": [
    "di = soupdata_of_insidepage.find('li',class_='profile')\n"
   ]
  },
  {
   "cell_type": "code",
   "execution_count": null,
   "id": "5a45eb27",
   "metadata": {},
   "outputs": [],
   "source": []
  },
  {
   "cell_type": "code",
   "execution_count": null,
   "id": "ac0a68b0",
   "metadata": {},
   "outputs": [],
   "source": []
  },
  {
   "cell_type": "code",
   "execution_count": null,
   "id": "aceb4335",
   "metadata": {},
   "outputs": [],
   "source": []
  },
  {
   "cell_type": "code",
   "execution_count": null,
   "id": "8166013f",
   "metadata": {},
   "outputs": [],
   "source": []
  },
  {
   "cell_type": "code",
   "execution_count": null,
   "id": "3c258bf9",
   "metadata": {},
   "outputs": [],
   "source": []
  },
  {
   "cell_type": "code",
   "execution_count": null,
   "id": "c426de07",
   "metadata": {},
   "outputs": [],
   "source": []
  },
  {
   "cell_type": "code",
   "execution_count": null,
   "id": "489855d9",
   "metadata": {},
   "outputs": [],
   "source": []
  },
  {
   "cell_type": "code",
   "execution_count": null,
   "id": "c3dc3198",
   "metadata": {},
   "outputs": [],
   "source": []
  },
  {
   "cell_type": "code",
   "execution_count": null,
   "id": "bc252ca9",
   "metadata": {},
   "outputs": [],
   "source": []
  },
  {
   "cell_type": "code",
   "execution_count": null,
   "id": "5065b47b",
   "metadata": {},
   "outputs": [],
   "source": []
  },
  {
   "cell_type": "code",
   "execution_count": null,
   "id": "191a0218",
   "metadata": {},
   "outputs": [],
   "source": []
  },
  {
   "cell_type": "code",
   "execution_count": null,
   "id": "03a11fe7",
   "metadata": {},
   "outputs": [],
   "source": []
  },
  {
   "cell_type": "code",
   "execution_count": null,
   "id": "272005ae",
   "metadata": {},
   "outputs": [],
   "source": []
  },
  {
   "cell_type": "code",
   "execution_count": null,
   "id": "052bfea5",
   "metadata": {},
   "outputs": [],
   "source": []
  },
  {
   "cell_type": "code",
   "execution_count": null,
   "id": "dea77260",
   "metadata": {},
   "outputs": [],
   "source": []
  },
  {
   "cell_type": "code",
   "execution_count": null,
   "id": "c4d574cd",
   "metadata": {},
   "outputs": [],
   "source": []
  },
  {
   "cell_type": "code",
   "execution_count": null,
   "id": "907a6923",
   "metadata": {},
   "outputs": [],
   "source": []
  },
  {
   "cell_type": "code",
   "execution_count": null,
   "id": "cbe9fe26",
   "metadata": {},
   "outputs": [],
   "source": []
  },
  {
   "cell_type": "code",
   "execution_count": null,
   "id": "3ae07d3e",
   "metadata": {},
   "outputs": [],
   "source": []
  },
  {
   "cell_type": "code",
   "execution_count": null,
   "id": "469dd220",
   "metadata": {},
   "outputs": [],
   "source": []
  },
  {
   "cell_type": "code",
   "execution_count": null,
   "id": "0b59e030",
   "metadata": {},
   "outputs": [],
   "source": []
  },
  {
   "cell_type": "code",
   "execution_count": null,
   "id": "8d97bca7",
   "metadata": {},
   "outputs": [],
   "source": []
  },
  {
   "cell_type": "code",
   "execution_count": null,
   "id": "a29fe6cc",
   "metadata": {},
   "outputs": [],
   "source": []
  },
  {
   "cell_type": "code",
   "execution_count": null,
   "id": "6ea1706e",
   "metadata": {},
   "outputs": [],
   "source": []
  },
  {
   "cell_type": "code",
   "execution_count": null,
   "id": "35ad78e9",
   "metadata": {},
   "outputs": [],
   "source": []
  },
  {
   "cell_type": "code",
   "execution_count": null,
   "id": "fff1ff1a",
   "metadata": {},
   "outputs": [],
   "source": []
  },
  {
   "cell_type": "code",
   "execution_count": null,
   "id": "b284327c",
   "metadata": {},
   "outputs": [],
   "source": []
  },
  {
   "cell_type": "code",
   "execution_count": null,
   "id": "adf250ca",
   "metadata": {},
   "outputs": [],
   "source": []
  },
  {
   "cell_type": "code",
   "execution_count": null,
   "id": "b43b9119",
   "metadata": {},
   "outputs": [],
   "source": []
  },
  {
   "cell_type": "code",
   "execution_count": null,
   "id": "779b6929",
   "metadata": {},
   "outputs": [],
   "source": []
  },
  {
   "cell_type": "code",
   "execution_count": null,
   "id": "5a16e6d6",
   "metadata": {},
   "outputs": [],
   "source": []
  },
  {
   "cell_type": "code",
   "execution_count": null,
   "id": "61b34c86",
   "metadata": {},
   "outputs": [],
   "source": []
  },
  {
   "cell_type": "code",
   "execution_count": null,
   "id": "9a1c2eb4",
   "metadata": {},
   "outputs": [],
   "source": []
  },
  {
   "cell_type": "code",
   "execution_count": null,
   "id": "a66f82e3",
   "metadata": {},
   "outputs": [],
   "source": []
  },
  {
   "cell_type": "code",
   "execution_count": null,
   "id": "74c44a49",
   "metadata": {},
   "outputs": [],
   "source": []
  },
  {
   "cell_type": "code",
   "execution_count": null,
   "id": "1c4002cd",
   "metadata": {},
   "outputs": [],
   "source": []
  },
  {
   "cell_type": "code",
   "execution_count": null,
   "id": "6be3634d",
   "metadata": {},
   "outputs": [],
   "source": []
  },
  {
   "cell_type": "code",
   "execution_count": null,
   "id": "ed807b09",
   "metadata": {},
   "outputs": [],
   "source": []
  },
  {
   "cell_type": "code",
   "execution_count": null,
   "id": "4a6c5a13",
   "metadata": {},
   "outputs": [],
   "source": []
  },
  {
   "cell_type": "code",
   "execution_count": null,
   "id": "2d693943",
   "metadata": {},
   "outputs": [],
   "source": []
  }
 ],
 "metadata": {
  "kernelspec": {
   "display_name": "Python 3 (ipykernel)",
   "language": "python",
   "name": "python3"
  },
  "language_info": {
   "codemirror_mode": {
    "name": "ipython",
    "version": 3
   },
   "file_extension": ".py",
   "mimetype": "text/x-python",
   "name": "python",
   "nbconvert_exporter": "python",
   "pygments_lexer": "ipython3",
   "version": "3.9.12"
  }
 },
 "nbformat": 4,
 "nbformat_minor": 5
}
